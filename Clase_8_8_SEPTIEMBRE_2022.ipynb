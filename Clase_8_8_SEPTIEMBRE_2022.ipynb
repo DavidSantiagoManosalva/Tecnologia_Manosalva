{
  "nbformat": 4,
  "nbformat_minor": 0,
  "metadata": {
    "colab": {
      "provenance": [],
      "collapsed_sections": []
    },
    "kernelspec": {
      "name": "python3",
      "display_name": "Python 3"
    },
    "language_info": {
      "name": "python"
    }
  },
  "cells": [
    {
      "cell_type": "code",
      "execution_count": null,
      "metadata": {
        "id": "S9kRwBoa4OFs"
      },
      "outputs": [],
      "source": []
    },
    {
      "cell_type": "markdown",
      "source": [
        "<center>\n",
        "\n",
        "#**COLEGIO SIGLO XXI - EL SOCORRO**\n",
        "#**PRESENTANDO A: ING PAOLA ANDREA QUINTERO**\n",
        "#**PRESENTADO POR: DAVID MANOSALVA**\n",
        "#**GRADO DECIMO**\n",
        "#**8 DE SEPTIEMBRE DE 2022**\n"
      ],
      "metadata": {
        "id": "53xwqcMN4Omq"
      }
    },
    {
      "cell_type": "markdown",
      "source": [
        "#**¿QUE ES PYTHON?**\n",
        "#Python es un lenguaje de programación de alto nivel que se utiliza para desarrollar aplicaciones de todo tipo. A diferencia de otros lenguajes como Java o .NET, se trata de un lenguaje interpretado, es decir, que no es necesario compilarlo para ejecutar las aplicaciones escritas en Python, sino que se ejecutan directamente por el ordenador utilizando un programa denominado interpretador, por lo que no es necesario “traducirlo” a lenguaje máquina. \n",
        "\n",
        "#FECHA DE LANSAMIENTO:\n",
        "#Guido Van Rossum publicó la primera versión del código Python (versión 0.9.0) en 1991.\n",
        "#CREADORES:\n",
        "#Python fue creado por Guido van Rossum,\n",
        "\n",
        "#RECUPERADO DE:\n",
        "https://www.becas-santander.com/es/blog/python-que-es.html https://aws.amazon.com/es/what-is/python/ https://www.redalyc.org/pdf/1815/181531232001.pdf\n"
      ],
      "metadata": {
        "id": "gwETxKRr4Ywh"
      }
    },
    {
      "cell_type": "code",
      "source": [
        "print(\"Esto es una suma\")\n",
        "numero_uno = 45\n",
        "numero_dos = 5\n",
        "resultado = numero_uno + numero_dos\n",
        "print(resultado)"
      ],
      "metadata": {
        "id": "fmapkfGL4pu4"
      },
      "execution_count": null,
      "outputs": []
    },
    {
      "cell_type": "code",
      "source": [
        "print(\"Esto es una resta\")\n",
        "numero_uno = 70\n",
        "numero_dos = 2\n",
        "resultado = numero_uno - numero_dos\n",
        "print(resultado)"
      ],
      "metadata": {
        "id": "7q7MNgfl4vhZ"
      },
      "execution_count": null,
      "outputs": []
    },
    {
      "cell_type": "code",
      "source": [
        "print(\"Esto es una multiplicacion\")\n",
        "numero_uno = 9\n",
        "numero_dos = 3\n",
        "resultado = numero_uno * numero_dos\n",
        "print(resultado)"
      ],
      "metadata": {
        "id": "2WlJKne841VI"
      },
      "execution_count": null,
      "outputs": []
    },
    {
      "cell_type": "code",
      "source": [
        "print(\"Esto es una division\")\n",
        "numero_uno = 63\n",
        "numero_dos = 3\n",
        "resultado = numero_uno / numero_dos\n",
        "print(resultado)"
      ],
      "metadata": {
        "id": "D8Uf_tMD436A"
      },
      "execution_count": null,
      "outputs": []
    },
    {
      "cell_type": "markdown",
      "source": [
        "#Ejercicios de Tipos de Datos Simples"
      ],
      "metadata": {
        "id": "GH9ihGAR5IzB"
      }
    },
    {
      "cell_type": "markdown",
      "source": [
        "##Ejercicio 1\n",
        "Escribir un programa que pregunte el nombre del usuario en la consola y un numero entero e imprima por pantalla en las lineas distintas el nombr del ususario tantas veces como el numero introducido"
      ],
      "metadata": {
        "id": "HDkAIgc8wnWl"
      }
    },
    {
      "cell_type": "code",
      "source": [
        "nombre = input(\"¿Como te llamas?\")\n",
        "n = input(\"Introduce tu numero entero: \")\n",
        "print((nombre + \"\\n\") * int (n))\n"
      ],
      "metadata": {
        "colab": {
          "base_uri": "https://localhost:8080/"
        },
        "id": "UhUhcnV9wppc",
        "outputId": "279352d7-4ed8-4e1f-e34b-790f3ec0f45f"
      },
      "execution_count": null,
      "outputs": [
        {
          "output_type": "stream",
          "name": "stdout",
          "text": [
            "¿Como te llamas?ds\n",
            "Introduce tu numero entero: 3\n",
            "ds\n",
            "ds\n",
            "ds\n",
            "\n"
          ]
        }
      ]
    },
    {
      "cell_type": "code",
      "source": [],
      "metadata": {
        "id": "FDyaXD_10QYe"
      },
      "execution_count": null,
      "outputs": []
    },
    {
      "cell_type": "markdown",
      "source": [
        "##Ejercicio 2\n",
        "\n",
        "escribir un programa que pida al usuario su peso (en kg) y estatura (en metros),calcule el indice de masa corporal y lo almacene en una variable, e imprima por pantalla la frase 'tu indece de masa corporal es <imc> 'donde <imc> es el indice de masa corporal calculado redondeado con dos decimales\n",
        "\n",
        "\n"
      ],
      "metadata": {
        "id": "z3tEr8uq0V7t"
      }
    },
    {
      "cell_type": "code",
      "source": [
        "peso = input(\"¿cual es tu peso en kg?\")\n",
        "estatura = input(\"¿cual es tu estatura en metros\")\n",
        "imc = round(float(peso)/float(estatura)**2,2)\n",
        "print(\"Tu indice de masa corporal es \" + str(imc))"
      ],
      "metadata": {
        "id": "4CTshugn6DlH"
      },
      "execution_count": null,
      "outputs": []
    },
    {
      "cell_type": "markdown",
      "source": [
        "# **Librerias en Phyton**"
      ],
      "metadata": {
        "id": "o7uasXza3De2"
      }
    },
    {
      "cell_type": "markdown",
      "source": [
        "Las librerías de Python responden al conjunto de implementaciones que permiten codificar este lenguaje, con el objeto de crear una interfaz independiente."
      ],
      "metadata": {
        "id": "DUl1azHq3SW7"
      }
    }
  ]
}